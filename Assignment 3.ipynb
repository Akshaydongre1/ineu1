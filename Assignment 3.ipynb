{
 "cells": [
  {
   "cell_type": "code",
   "execution_count": null,
   "id": "8f335129",
   "metadata": {},
   "outputs": [],
   "source": [
    "# 1. Why are functions advantageous to have in your programs?\n",
    "\n",
    "***advantages of funtions are***\n",
    "# we can reduce rewriting of code\n",
    "# save time\n",
    "# easy to read\n",
    "# easy to update"
   ]
  },
  {
   "cell_type": "code",
   "execution_count": null,
   "id": "8b0f94f6",
   "metadata": {},
   "outputs": [],
   "source": [
    "# 2. When does the code in a function run: when it's specified or when it's called?\n",
    "# code in the funtion run when we specifies Def"
   ]
  },
  {
   "cell_type": "code",
   "execution_count": null,
   "id": "89ec1e1f",
   "metadata": {},
   "outputs": [],
   "source": [
    "# 3. What statement creates a function?\n",
    "# def statement creates a funtion."
   ]
  },
  {
   "cell_type": "code",
   "execution_count": null,
   "id": "a78abe90",
   "metadata": {},
   "outputs": [],
   "source": [
    "# 4. What is the difference between a function and a function call?\n",
    "# funtion call means caliing of funtion , unless we call a funtion it will not get executed.\n",
    "# funtion is the procedure to achieve perticular result"
   ]
  },
  {
   "cell_type": "code",
   "execution_count": null,
   "id": "77b0e6f6",
   "metadata": {},
   "outputs": [],
   "source": [
    "# 5. How many global scopes are there in a Python program? How many local scopes?\n",
    "# there is one globle scope and one local scope is present in pythonS"
   ]
  },
  {
   "cell_type": "code",
   "execution_count": null,
   "id": "92f5d01e",
   "metadata": {},
   "outputs": [],
   "source": [
    "# 6. What happens to variables in a local scope when the function call returns?\n",
    "# When the execution of the function terminates (returns), the local variables are destroyed"
   ]
  },
  {
   "cell_type": "code",
   "execution_count": null,
   "id": "8926fca4",
   "metadata": {},
   "outputs": [],
   "source": [
    "# 7. What is the concept of a return value? Is it possible to have a return value in an expression?\n",
    "# rerurn value can be integer , string, it will not give none type. yes it is possible to have return value in an expression."
   ]
  },
  {
   "cell_type": "code",
   "execution_count": null,
   "id": "597f57da",
   "metadata": {},
   "outputs": [],
   "source": [
    "# 8. If a function does not have a return statement, what is the return value of a call to that function?\n",
    "# if funtion does not have return statement it will give none type after execution."
   ]
  },
  {
   "cell_type": "code",
   "execution_count": null,
   "id": "a0c4f87f",
   "metadata": {},
   "outputs": [],
   "source": [
    "# 9. How do you make a function variable refer to the global variable?\n",
    "# by using Global keyword"
   ]
  },
  {
   "cell_type": "code",
   "execution_count": null,
   "id": "2101aa94",
   "metadata": {},
   "outputs": [],
   "source": [
    "# 10. What is the data type of None?\n",
    "# data type of none is NonType."
   ]
  },
  {
   "cell_type": "code",
   "execution_count": null,
   "id": "e11df579",
   "metadata": {},
   "outputs": [],
   "source": [
    "# 11. What does the sentence import areallyourpetsnamederic do?\n",
    "# import statement imports module named areallyourpetsnamederic."
   ]
  },
  {
   "cell_type": "code",
   "execution_count": null,
   "id": "51d8b5c8",
   "metadata": {},
   "outputs": [],
   "source": [
    "# 12. If you had a bacon() feature in a spam module, what would you call it after importing spam?\n",
    "# the funtion can be called with spam.bacon()"
   ]
  },
  {
   "cell_type": "code",
   "execution_count": null,
   "id": "f79efff3",
   "metadata": {},
   "outputs": [],
   "source": [
    "# 13. What can you do to save a programme from crashing if it encounters an error?\n",
    "# i will use exception handeling to save program from crashing if encounters an error."
   ]
  },
  {
   "cell_type": "code",
   "execution_count": null,
   "id": "7894a0d1",
   "metadata": {},
   "outputs": [],
   "source": [
    "# 14. What is the purpose of the try clause? What is the purpose of the except clause?\n",
    "# try clause passes the line to except clause , if try clause code having eroor. it passes and excecutes code written in the except clause."
   ]
  }
 ],
 "metadata": {
  "kernelspec": {
   "display_name": "Python 3 (ipykernel)",
   "language": "python",
   "name": "python3"
  },
  "language_info": {
   "codemirror_mode": {
    "name": "ipython",
    "version": 3
   },
   "file_extension": ".py",
   "mimetype": "text/x-python",
   "name": "python",
   "nbconvert_exporter": "python",
   "pygments_lexer": "ipython3",
   "version": "3.9.7"
  }
 },
 "nbformat": 4,
 "nbformat_minor": 5
}
