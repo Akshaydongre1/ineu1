{
 "cells": [
  {
   "cell_type": "code",
   "execution_count": 2,
   "id": "7b8d4af3",
   "metadata": {},
   "outputs": [],
   "source": [
    "# 1. What does an empty dictionary's code look like?\n",
    "k={}\n"
   ]
  },
  {
   "cell_type": "code",
   "execution_count": 3,
   "id": "eb59e48f",
   "metadata": {},
   "outputs": [],
   "source": [
    "# 2. What is the value of a dictionary value with the key 'foo' and the value 42?\n",
    "\n",
    "k={\"foo\":42}"
   ]
  },
  {
   "cell_type": "code",
   "execution_count": 4,
   "id": "9959e8be",
   "metadata": {},
   "outputs": [
    {
     "data": {
      "text/plain": [
       "dict_values([42])"
      ]
     },
     "execution_count": 4,
     "metadata": {},
     "output_type": "execute_result"
    }
   ],
   "source": [
    "k.values()"
   ]
  },
  {
   "cell_type": "code",
   "execution_count": 5,
   "id": "5a047dce",
   "metadata": {},
   "outputs": [],
   "source": [
    "# 3. What is the most significant distinction between a dictionary and a list?\n",
    "# list is represented by [] and it contains all the data types, and dictionary is represented by {},\n",
    "#- it contains keys and vlaues."
   ]
  },
  {
   "cell_type": "code",
   "execution_count": 8,
   "id": "d78c42da",
   "metadata": {},
   "outputs": [
    {
     "ename": "KeyError",
     "evalue": "'foo'",
     "output_type": "error",
     "traceback": [
      "\u001b[1;31m---------------------------------------------------------------------------\u001b[0m",
      "\u001b[1;31mKeyError\u001b[0m                                  Traceback (most recent call last)",
      "\u001b[1;32m~\\AppData\\Local\\Temp/ipykernel_8012/4117268807.py\u001b[0m in \u001b[0;36m<module>\u001b[1;34m\u001b[0m\n\u001b[0;32m      2\u001b[0m \u001b[1;33m\u001b[0m\u001b[0m\n\u001b[0;32m      3\u001b[0m \u001b[0mspam\u001b[0m\u001b[1;33m=\u001b[0m\u001b[1;33m{\u001b[0m\u001b[1;34m\"bar\"\u001b[0m\u001b[1;33m:\u001b[0m\u001b[1;36m100\u001b[0m\u001b[1;33m}\u001b[0m\u001b[1;33m\u001b[0m\u001b[1;33m\u001b[0m\u001b[0m\n\u001b[1;32m----> 4\u001b[1;33m \u001b[0mspam\u001b[0m\u001b[1;33m[\u001b[0m\u001b[1;34m'foo'\u001b[0m\u001b[1;33m]\u001b[0m\u001b[1;33m\u001b[0m\u001b[1;33m\u001b[0m\u001b[0m\n\u001b[0m",
      "\u001b[1;31mKeyError\u001b[0m: 'foo'"
     ]
    }
   ],
   "source": [
    "# 4. What happens if you try to access spam['foo'] if spam is {'bar': 100}?\n",
    "\n",
    "spam={\"bar\":100}\n",
    "spam['foo']"
   ]
  },
  {
   "cell_type": "code",
   "execution_count": 9,
   "id": "e5d6f0d0",
   "metadata": {},
   "outputs": [],
   "source": [
    "# it gives key error because we have we have given key as 'bar'"
   ]
  },
  {
   "cell_type": "code",
   "execution_count": 10,
   "id": "8a35277e",
   "metadata": {},
   "outputs": [],
   "source": [
    "# 5. If a dictionary is stored in spam, what is the difference between the expressions 'cat' in spam and 'cat' in spam.keys()?\n",
    "\n",
    "#spam[cat] will give values associated with cat\n",
    "#spam.keys() also gives key values."
   ]
  },
  {
   "cell_type": "code",
   "execution_count": 11,
   "id": "6a65d921",
   "metadata": {},
   "outputs": [],
   "source": [
    "# 6. If a dictionary is stored in spam, what is the difference between the expressions 'cat' in spam and 'cat' in spam.values()?\n",
    "\n",
    "# both gives the values associated with cat in dictionary"
   ]
  },
  {
   "cell_type": "code",
   "execution_count": 15,
   "id": "08048933",
   "metadata": {},
   "outputs": [],
   "source": [
    "\"\"\"7. What is a shortcut for the following code?\n",
    "if 'color' not in spam:\n",
    "spam['color'] = 'black'\"\"\"\n",
    "\n",
    "\n",
    "spam={\"animal\":\"cat\"}\n",
    "spam['color']='black'"
   ]
  },
  {
   "cell_type": "code",
   "execution_count": 16,
   "id": "ea81b606",
   "metadata": {},
   "outputs": [
    {
     "data": {
      "text/plain": [
       "{'animal': 'cat', 'color': 'black'}"
      ]
     },
     "execution_count": 16,
     "metadata": {},
     "output_type": "execute_result"
    }
   ],
   "source": [
    "spam"
   ]
  },
  {
   "cell_type": "code",
   "execution_count": 17,
   "id": "86943548",
   "metadata": {},
   "outputs": [],
   "source": [
    "# it will append 'color':'black' in the dictionar"
   ]
  },
  {
   "cell_type": "code",
   "execution_count": 20,
   "id": "f2e395eb",
   "metadata": {},
   "outputs": [],
   "source": [
    "# 8. How do you \"pretty print\" dictionary values using which module and function?\n",
    "\n",
    "pprint()"
   ]
  },
  {
   "cell_type": "code",
   "execution_count": null,
   "id": "fc062efb",
   "metadata": {},
   "outputs": [],
   "source": []
  }
 ],
 "metadata": {
  "kernelspec": {
   "display_name": "Python 3 (ipykernel)",
   "language": "python",
   "name": "python3"
  },
  "language_info": {
   "codemirror_mode": {
    "name": "ipython",
    "version": 3
   },
   "file_extension": ".py",
   "mimetype": "text/x-python",
   "name": "python",
   "nbconvert_exporter": "python",
   "pygments_lexer": "ipython3",
   "version": "3.9.7"
  }
 },
 "nbformat": 4,
 "nbformat_minor": 5
}
