{
 "cells": [
  {
   "cell_type": "code",
   "execution_count": 2,
   "id": "fb2d734d",
   "metadata": {},
   "outputs": [],
   "source": [
    "# 1. To what does a relative path refer?\n",
    "# A relative path refers to a location that is relative to a current directory."
   ]
  },
  {
   "cell_type": "code",
   "execution_count": 3,
   "id": "302262dc",
   "metadata": {},
   "outputs": [],
   "source": [
    "# 2. What does an absolute path start with your operating system?\n",
    "# In other words,we can say that an absolute path is a complete path from start of actual file system from / directory."
   ]
  },
  {
   "cell_type": "code",
   "execution_count": 4,
   "id": "b5369952",
   "metadata": {},
   "outputs": [],
   "source": [
    "# 3. What do the functions os.getcwd() and os.chdir() do?\n",
    "#  os.getcwd() and os.chdir() it represent current working directory."
   ]
  },
  {
   "cell_type": "code",
   "execution_count": 5,
   "id": "96a84690",
   "metadata": {},
   "outputs": [],
   "source": [
    "# 4. What are the . and .. folders?\n",
    "# "
   ]
  },
  {
   "cell_type": "code",
   "execution_count": 6,
   "id": "49f26918",
   "metadata": {},
   "outputs": [],
   "source": [
    "# 5. In C:\\bacon\\eggs\\spam.txt, which part is the dir name, and which part is the base name?\n",
    "# spam.txt is the base name."
   ]
  },
  {
   "cell_type": "code",
   "execution_count": 7,
   "id": "5641f878",
   "metadata": {},
   "outputs": [],
   "source": [
    "# 6. What are the three “mode” arguments that can be passed to the open() function?\n",
    "#  read , write, append . these are three modes of argument to the open() function."
   ]
  },
  {
   "cell_type": "code",
   "execution_count": 8,
   "id": "02bd6e88",
   "metadata": {},
   "outputs": [],
   "source": [
    "# 7. What happens if an existing file is opened in write mode?\n",
    "# When mode “w” is specified, it creates an empty file for output operations"
   ]
  },
  {
   "cell_type": "code",
   "execution_count": null,
   "id": "2160ec1c",
   "metadata": {},
   "outputs": [],
   "source": [
    "# 8. How do you tell the difference between read() and readlines()?\n",
    "# readline() · This method will read one line in a file. · A new line character is left at the string end and is ignored for the last line provided"
   ]
  }
 ],
 "metadata": {
  "kernelspec": {
   "display_name": "Python 3 (ipykernel)",
   "language": "python",
   "name": "python3"
  },
  "language_info": {
   "codemirror_mode": {
    "name": "ipython",
    "version": 3
   },
   "file_extension": ".py",
   "mimetype": "text/x-python",
   "name": "python",
   "nbconvert_exporter": "python",
   "pygments_lexer": "ipython3",
   "version": "3.9.7"
  }
 },
 "nbformat": 4,
 "nbformat_minor": 5
}
