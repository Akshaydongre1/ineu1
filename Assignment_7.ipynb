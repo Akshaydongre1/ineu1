{
 "cells": [
  {
   "cell_type": "code",
   "execution_count": 1,
   "id": "5de6f2a6",
   "metadata": {},
   "outputs": [],
   "source": [
    "# 1. What is the name of the feature responsible for generating Regex objects?"
   ]
  },
  {
   "cell_type": "code",
   "execution_count": 2,
   "id": "b5fd445a",
   "metadata": {},
   "outputs": [],
   "source": [
    "# The re. compile() function returns Regex objects."
   ]
  },
  {
   "cell_type": "code",
   "execution_count": 3,
   "id": "336c0d29",
   "metadata": {},
   "outputs": [],
   "source": [
    "# 2. Why do raw strings often appear in Regex objects?\n",
    "# raw strings are appear so that Bachslashes do not have to escape."
   ]
  },
  {
   "cell_type": "code",
   "execution_count": 4,
   "id": "0106d86f",
   "metadata": {},
   "outputs": [],
   "source": [
    "# 3. What is the return value of the search() method?"
   ]
  },
  {
   "cell_type": "code",
   "execution_count": 5,
   "id": "0cbd4f66",
   "metadata": {},
   "outputs": [],
   "source": [
    "# 4. From a Match item, how do you get the actual strings that match the pattern?\n",
    "# The group() method returns strings of the matched text"
   ]
  },
  {
   "cell_type": "code",
   "execution_count": 6,
   "id": "5e450490",
   "metadata": {},
   "outputs": [],
   "source": [
    "# 5. In the regex which created from the r'(\\d\\d\\d)-(\\d\\d\\d-\\d\\d\\d\\d)', what does group zero cover? Group 2? Group 1?"
   ]
  },
  {
   "cell_type": "code",
   "execution_count": 1,
   "id": "ab98ad36",
   "metadata": {},
   "outputs": [],
   "source": [
    "# 8. In standard expressions, what does the | character mean?\n"
   ]
  },
  {
   "cell_type": "code",
   "execution_count": 2,
   "id": "0d15764c",
   "metadata": {},
   "outputs": [],
   "source": [
    "# 9. In regular expressions, what does the character stand for?\n",
    "# character help you to find string or set of string"
   ]
  },
  {
   "cell_type": "code",
   "execution_count": 4,
   "id": "699f6c8b",
   "metadata": {},
   "outputs": [],
   "source": [
    "# 10.In regular expressions, what is the difference between the + and * characters?\n",
    "# * Matches 0 or more occurrences of preceding expression\n",
    "# + Matches 1 or more occurrence of preceding expression"
   ]
  },
  {
   "cell_type": "code",
   "execution_count": 14,
   "id": "00316486",
   "metadata": {},
   "outputs": [],
   "source": [
    "# 11. What is the difference between {4} and {4,5} in regular expression?\n",
    "# {4} and {4,5} both are set"
   ]
  },
  {
   "cell_type": "code",
   "execution_count": 15,
   "id": "35f31d77",
   "metadata": {},
   "outputs": [],
   "source": [
    "# 12. What do you mean by the \\d, \\w, and \\s shorthand character classes signify in regular expressions?\n",
    "# \\d represent digit character\n",
    "# \\s represent whitespace character.\n",
    "# \\w means word character"
   ]
  },
  {
   "cell_type": "code",
   "execution_count": 16,
   "id": "d05137f8",
   "metadata": {},
   "outputs": [],
   "source": [
    "# 13. What do means by \\D, \\W, and \\S shorthand character classes signify in regular expressions?\n",
    "#  \\D: ANY ONE digit/non-digit character. Digits are [0-9]\n",
    "# \\W: ANY ONE word/non-word character. For ASCII, word characters are [a-zA-Z0-9_]\n",
    "# \\S: ANY ONE space/non-space character. For ASCII, whitespace characters are [ \\n\\r\\t\\f]"
   ]
  },
  {
   "cell_type": "code",
   "execution_count": 17,
   "id": "e8a95ca3",
   "metadata": {},
   "outputs": [],
   "source": [
    "# 14. What is the difference between .*? and .*?"
   ]
  },
  {
   "cell_type": "code",
   "execution_count": null,
   "id": "6e71cf5c",
   "metadata": {},
   "outputs": [],
   "source": [
    "# 15. What is the syntax for matching both numbers and lowercase letters with a character class?"
   ]
  }
 ],
 "metadata": {
  "kernelspec": {
   "display_name": "Python 3 (ipykernel)",
   "language": "python",
   "name": "python3"
  },
  "language_info": {
   "codemirror_mode": {
    "name": "ipython",
    "version": 3
   },
   "file_extension": ".py",
   "mimetype": "text/x-python",
   "name": "python",
   "nbconvert_exporter": "python",
   "pygments_lexer": "ipython3",
   "version": "3.9.7"
  }
 },
 "nbformat": 4,
 "nbformat_minor": 5
}
