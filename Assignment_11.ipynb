{
 "cells": [
  {
   "cell_type": "code",
   "execution_count": 5,
   "id": "4c827cfc",
   "metadata": {},
   "outputs": [],
   "source": [
    "#1. Create an assert statement that throws an AssertionError if the variable spam is a negative integer.\n",
    "\n",
    "def dev(p,spam):\n",
    "    assert spam!=0\n",
    "    return p/spam"
   ]
  },
  {
   "cell_type": "code",
   "execution_count": 6,
   "id": "8b599475",
   "metadata": {},
   "outputs": [
    {
     "data": {
      "text/plain": [
       "-0.5"
      ]
     },
     "execution_count": 6,
     "metadata": {},
     "output_type": "execute_result"
    }
   ],
   "source": [
    "dev(1,-2)"
   ]
  },
  {
   "cell_type": "code",
   "execution_count": 7,
   "id": "51941468",
   "metadata": {},
   "outputs": [],
   "source": [
    "# 2. Write an assert statement that triggers an AssertionError if the variables eggs and bacon contain strings that are the same as each other, even if their cases are different (that is, 'hello' and 'hello' are considered the same, and 'goodbye' and 'GOODbye' are also considered the same)."
   ]
  },
  {
   "cell_type": "code",
   "execution_count": null,
   "id": "61a4e888",
   "metadata": {},
   "outputs": [],
   "source": [
    "eggs = 'hello'\n",
    "bacon = 'good bye'\n",
    "\n",
    "# Raise an AssertError if they are not different.\n",
    "assert eggs.lower() != bacon.lower(), 'eggs/bacon should not be the same!'\n",
    "\n",
    "# 03. Write an assert statement that always triggers an AssertionError.\n",
    "# assert True, 'Always triggers an AssertionError.'\n",
    "\n",
    "# 04/05. What are the two lines that your program must have in order to have\n",
    "# logging.debug() send a logging message to a file named programLog.txt?\n",
    "import logging\n",
    "logging.basicConfig(\n",
    "    filename='programLog.txt',\n",
    "    level=logging.DEBUG,\n",
    "    format='%(asctime)s - %(levelname)s - %(message)s'\n",
    ")\n",
    "\n",
    "# Test a logging.debug('message')\n",
    "#  2019-08-03 12:24:50,549 - DEBUG - This is a test message.\n",
    "# logging.debug('This is a test message.')\n",
    "\n",
    "# 06. What are the 5 logging levels.\n",
    "# logging.debug() - variable's state and small details\n",
    "# logging.info() - general events, confirm a program is working\n",
    "# logging.warning() - potiental problem to work on in the future\n",
    "# logging.error() - record an error that caused program to fail to do something\n",
    "# logging.critical() - fatal error that has caused\n",
    "\n",
    "# 07. What line of code to add to disable all logging messages\n",
    "logging.disable(logging.DEBUG)\n",
    "\n",
    "# 08. Why is using logging messages better than using print() to display\n",
    "# the same message?\n",
    "# Because with print, when your program is ready for production, you still\n",
    "# have to \"remove\" or comment it out. Verses logging message, you can toggle\n",
    "# the setting on/off or write to a file (send to a server). It is more flexible\n",
    "# especially with logging level 1-5.\n",
    "\n",
    "# 09. What are ther difference between Step, Over and Out buttons in the\n",
    "# Debug Control Window?\n",
    "# Step - one line execution at a time\n",
    "# Over - excecute the next line of code, but if it is a program, it will\n",
    "#        complete the entire function call.\n",
    "# out  - execute the lines of code unti it returns from the current function.\n",
    "#        (out is useful when you stepped into a function call).\n",
    "\n",
    "# 10. After you click Go in the Debugger, when will it stop?\n",
    "# Go runs until the program terminate or reaches a breakpoint set.\n",
    "\n",
    "# 11/12. What is a breakpoint? How to create it?\n",
    "# When you have Debugger enabled and you can right click on any lines\n",
    "# to create a breakpoint. During Go - it will stop there and await your next\n",
    "# command."
   ]
  },
  {
   "cell_type": "code",
   "execution_count": null,
   "id": "e332b0c6",
   "metadata": {},
   "outputs": [],
   "source": [
    "# 3. Create an assert statement that throws an AssertionError every time."
   ]
  },
  {
   "cell_type": "code",
   "execution_count": null,
   "id": "3c1041a4",
   "metadata": {},
   "outputs": [],
   "source": [
    "# 4. What are the two lines that must be present in your software in order to call logging.debug()?\n",
    "import logging\n",
    "\n",
    "logging.basicConfig(level=logging.DEBUG)"
   ]
  },
  {
   "cell_type": "code",
   "execution_count": null,
   "id": "edecbaff",
   "metadata": {},
   "outputs": [],
   "source": [
    "# 5. What are the two lines that your program must have in order to have logging.debug() send a logging message to a file named programLog.txt?"
   ]
  },
  {
   "cell_type": "code",
   "execution_count": null,
   "id": "33e0eb37",
   "metadata": {},
   "outputs": [],
   "source": [
    "# 6. What are the five levels of logging?"
   ]
  },
  {
   "cell_type": "code",
   "execution_count": null,
   "id": "2c7ea4be",
   "metadata": {},
   "outputs": [],
   "source": [
    "# critical, error, warning , info, "
   ]
  },
  {
   "cell_type": "code",
   "execution_count": null,
   "id": "d8a8bc31",
   "metadata": {},
   "outputs": [],
   "source": [
    "# 7. What line of code would you add to your software to disable all logging messages?\n",
    "import logging\n",
    "\n",
    "logger = logging.getLogger()\n",
    "logger.removeHandler(sys.stderr)\n",
    "logger.warning('foobar')  # emits 'foobar' on sys.stderr"
   ]
  },
  {
   "cell_type": "code",
   "execution_count": null,
   "id": "a8f77f12",
   "metadata": {},
   "outputs": [],
   "source": [
    "# 11. What is the concept of a breakpoint?\n",
    "# it is used to intrupt the running programm immediatly befor it executes"
   ]
  }
 ],
 "metadata": {
  "kernelspec": {
   "display_name": "Python 3 (ipykernel)",
   "language": "python",
   "name": "python3"
  },
  "language_info": {
   "codemirror_mode": {
    "name": "ipython",
    "version": 3
   },
   "file_extension": ".py",
   "mimetype": "text/x-python",
   "name": "python",
   "nbconvert_exporter": "python",
   "pygments_lexer": "ipython3",
   "version": "3.9.7"
  }
 },
 "nbformat": 4,
 "nbformat_minor": 5
}
