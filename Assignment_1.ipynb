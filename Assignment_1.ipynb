{
 "cells": [
  {
   "cell_type": "code",
   "execution_count": 1,
   "id": "9695c3d2",
   "metadata": {},
   "outputs": [],
   "source": [
    "#1. In the below elements which of them are values or an expression? eg:- values can be integer or string and expressions will be mathematical operators."
   ]
  },
  {
   "cell_type": "code",
   "execution_count": 3,
   "id": "ff0e29ef",
   "metadata": {},
   "outputs": [],
   "source": [
    "#values=\"hello\", -87.8, 6"
   ]
  },
  {
   "cell_type": "code",
   "execution_count": 5,
   "id": "37a0f3e5",
   "metadata": {},
   "outputs": [],
   "source": [
    "#expression= +, -, *, /"
   ]
  },
  {
   "cell_type": "code",
   "execution_count": 6,
   "id": "cd1b33cd",
   "metadata": {},
   "outputs": [],
   "source": [
    "#2. What is the difference between string and variable?"
   ]
  },
  {
   "cell_type": "code",
   "execution_count": 7,
   "id": "c5ab1ee9",
   "metadata": {},
   "outputs": [],
   "source": [
    "#strings are sentence or number written in \"\" or ''"
   ]
  },
  {
   "cell_type": "code",
   "execution_count": 8,
   "id": "28ecb011",
   "metadata": {},
   "outputs": [],
   "source": [
    "#varialbe  are anything that may string , integer , floating number, complex number,bollean that are stored. "
   ]
  },
  {
   "cell_type": "code",
   "execution_count": 9,
   "id": "1c7091dc",
   "metadata": {},
   "outputs": [],
   "source": [
    "#3.Describe three different data types."
   ]
  },
  {
   "cell_type": "code",
   "execution_count": 10,
   "id": "996806d5",
   "metadata": {},
   "outputs": [],
   "source": [
    "# string, integer, floating number, complex number,bollean  "
   ]
  },
  {
   "cell_type": "code",
   "execution_count": 12,
   "id": "6fd0afa4",
   "metadata": {},
   "outputs": [],
   "source": [
    "#5. This assignment statements, like spam = 10. What is the difference between an expression and a statement?"
   ]
  },
  {
   "cell_type": "code",
   "execution_count": 13,
   "id": "c91ebc62",
   "metadata": {},
   "outputs": [],
   "source": [
    "# statement contain keyword ,expression does not contain keyword print(\"hello\"), print is  keyword and \"hello\" is expression"
   ]
  },
  {
   "cell_type": "code",
   "execution_count": 15,
   "id": "02b99dd1",
   "metadata": {},
   "outputs": [],
   "source": [
    "#6. After running the following code, what does the variable bacon contain?\n",
    "#bacon = 22\n",
    "#bacon + 1\n"
   ]
  },
  {
   "cell_type": "code",
   "execution_count": 16,
   "id": "0815f265",
   "metadata": {},
   "outputs": [
    {
     "data": {
      "text/plain": [
       "23"
      ]
     },
     "execution_count": 16,
     "metadata": {},
     "output_type": "execute_result"
    }
   ],
   "source": [
    "\n",
    "bacon = 22\n",
    "bacon + 1\n"
   ]
  },
  {
   "cell_type": "code",
   "execution_count": 17,
   "id": "89e76dc8",
   "metadata": {},
   "outputs": [],
   "source": [
    "#7. What should the values of the following two terms be?\n",
    "#'spam' + 'spamspam'\n",
    "#'spam' * 3\n"
   ]
  },
  {
   "cell_type": "code",
   "execution_count": 18,
   "id": "787433fa",
   "metadata": {},
   "outputs": [
    {
     "data": {
      "text/plain": [
       "'spamspamspam'"
      ]
     },
     "execution_count": 18,
     "metadata": {},
     "output_type": "execute_result"
    }
   ],
   "source": [
    "'spam'+'spamspam'"
   ]
  },
  {
   "cell_type": "code",
   "execution_count": 20,
   "id": "f5321286",
   "metadata": {},
   "outputs": [
    {
     "data": {
      "text/plain": [
       "'spamspamspam'"
      ]
     },
     "execution_count": 20,
     "metadata": {},
     "output_type": "execute_result"
    }
   ],
   "source": [
    "'spam'*3"
   ]
  },
  {
   "cell_type": "code",
   "execution_count": 21,
   "id": "493c0e3d",
   "metadata": {},
   "outputs": [],
   "source": [
    "#8. Why is eggs a valid variable name while 100 is invalid?"
   ]
  },
  {
   "cell_type": "code",
   "execution_count": 22,
   "id": "da1e56b4",
   "metadata": {},
   "outputs": [],
   "source": [
    "#variable name cannot start with digit"
   ]
  },
  {
   "cell_type": "code",
   "execution_count": 23,
   "id": "cbe50014",
   "metadata": {},
   "outputs": [],
   "source": [
    "#9. What three functions can be used to get the integer, floating-point number, or string version of a value?"
   ]
  },
  {
   "cell_type": "code",
   "execution_count": 24,
   "id": "f2284417",
   "metadata": {},
   "outputs": [],
   "source": [
    "#int(), float() str()"
   ]
  },
  {
   "cell_type": "code",
   "execution_count": 25,
   "id": "f9ab3e35",
   "metadata": {},
   "outputs": [],
   "source": [
    "#10. Why does this expression cause an error? How can you fix it?\n",
    "#'I have eaten ' + 99 + ' burritos.'\n"
   ]
  },
  {
   "cell_type": "code",
   "execution_count": 27,
   "id": "9442a945",
   "metadata": {},
   "outputs": [
    {
     "data": {
      "text/plain": [
       "'I have eaten  burritos.'"
      ]
     },
     "execution_count": 27,
     "metadata": {},
     "output_type": "execute_result"
    }
   ],
   "source": [
    "#in the given input 99 is integer have to convert in string.\n",
    "'I have eaten ' +str () + ' burritos.'\n"
   ]
  },
  {
   "cell_type": "code",
   "execution_count": null,
   "id": "7510998d",
   "metadata": {},
   "outputs": [],
   "source": []
  }
 ],
 "metadata": {
  "kernelspec": {
   "display_name": "Python 3 (ipykernel)",
   "language": "python",
   "name": "python3"
  },
  "language_info": {
   "codemirror_mode": {
    "name": "ipython",
    "version": 3
   },
   "file_extension": ".py",
   "mimetype": "text/x-python",
   "name": "python",
   "nbconvert_exporter": "python",
   "pygments_lexer": "ipython3",
   "version": "3.9.7"
  }
 },
 "nbformat": 4,
 "nbformat_minor": 5
}
