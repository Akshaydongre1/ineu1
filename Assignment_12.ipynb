{
 "cells": [
  {
   "cell_type": "code",
   "execution_count": 1,
   "id": "883b074d",
   "metadata": {},
   "outputs": [],
   "source": [
    "# 1. In what modes should the PdfFileReader() and PdfFileWriter() File objects will be opened?\n",
    "# PdfFileReader() needs to be opened in read-binary mode by passing 'rb' as the second argument to open(). Likewise, the File object passed to PyPDF2. PdfFileWriter() needs to be opened in write-binary mode with 'wb"
   ]
  },
  {
   "cell_type": "code",
   "execution_count": 2,
   "id": "a8f0ee0d",
   "metadata": {},
   "outputs": [],
   "source": [
    "# 2. From a PdfFileReader object, how do you get a Page object for page 5?\n",
    "# You can get a Page object by calling the getPage() method ➋ on a PdfFileReader object and passing it the page number of the page you're interested in"
   ]
  },
  {
   "cell_type": "code",
   "execution_count": 3,
   "id": "0e18fb4a",
   "metadata": {},
   "outputs": [],
   "source": [
    "# 3. What PdfFileReader variable stores the number of pages in the PDF document?\n",
    "# numPages attribut of pdfFileReader is used."
   ]
  },
  {
   "cell_type": "code",
   "execution_count": null,
   "id": "76ceea0a",
   "metadata": {},
   "outputs": [],
   "source": [
    "# 4. If a PdfFileReader object’s PDF is encrypted with the password swordfish, what must you do before you can obtain Page objects from it?\n",
    "#  >>> import PyPDF2\n",
    "   >>> pdfReader = PyPDF2.PdfFileReader(open('encrypted.pdf', 'rb'))\n",
    "   >>> pdfReader.isEncrypted\n",
    "   True\n",
    "   >>> pdfReader.getPage(0)\n",
    "  Traceback (most recent call last):\n",
    "     File \"<pyshell#173>\", line 1, in <module>\n",
    "       pdfReader.getPage()\n",
    "     --snip--\n",
    "     File \"C:\\Python34\\lib\\site-packages\\PyPDF2\\pdf.py\", line 1173, in getObject\n",
    "       raise utils.PdfReadError(\"file has not been decrypted\")\n",
    "   PyPDF2.utils.PdfReadError: file has not been decrypted\n",
    ">>> pdfReader = PyPDF2.PdfFileReader(open('encrypted.pdf', 'rb'))\n",
    "  >>> pdfReader.decrypt('rosebud')\n",
    "   1\n",
    "   >>> pageObj = pdfReader.getPage(0)"
   ]
  },
  {
   "cell_type": "code",
   "execution_count": 6,
   "id": "851c93ca",
   "metadata": {},
   "outputs": [],
   "source": [
    "# 5. What methods do you use to rotate a page?\n",
    "# i have to use funtion page.rotateClockwise(90)"
   ]
  },
  {
   "cell_type": "code",
   "execution_count": 7,
   "id": "dee2fb80",
   "metadata": {},
   "outputs": [],
   "source": [
    "# 6. What is the difference between a Run object and a Paragraph object?\n",
    "# To write paragraphs, you can use the add_paragraph() method of the Document class object\n"
   ]
  },
  {
   "cell_type": "code",
   "execution_count": 8,
   "id": "c1fc064e",
   "metadata": {},
   "outputs": [],
   "source": [
    "# 7. How do you obtain a list of Paragraph objects for a Document object that’s stored in a variable named doc?"
   ]
  },
  {
   "cell_type": "code",
   "execution_count": 9,
   "id": "50866d6b",
   "metadata": {},
   "outputs": [],
   "source": [
    "#  8. What type of object has bold, underline, italic, strike, and outline variables?\n",
    "# "
   ]
  },
  {
   "cell_type": "code",
   "execution_count": 10,
   "id": "198544bd",
   "metadata": {},
   "outputs": [],
   "source": [
    "# 9. What is the difference between False, True, and None for the bold variable?\n",
    "#True / False are used where the field takes a boolean value. None is used where the field takes an Optional[List]"
   ]
  },
  {
   "cell_type": "code",
   "execution_count": null,
   "id": "f495855d",
   "metadata": {},
   "outputs": [],
   "source": [
    "# 10. How do you create a Document object for a new Word document?\n",
    "# : In the Object dialog box, click the Create New tab, and then select an option from the Object type list"
   ]
  }
 ],
 "metadata": {
  "kernelspec": {
   "display_name": "Python 3 (ipykernel)",
   "language": "python",
   "name": "python3"
  },
  "language_info": {
   "codemirror_mode": {
    "name": "ipython",
    "version": 3
   },
   "file_extension": ".py",
   "mimetype": "text/x-python",
   "name": "python",
   "nbconvert_exporter": "python",
   "pygments_lexer": "ipython3",
   "version": "3.9.7"
  }
 },
 "nbformat": 4,
 "nbformat_minor": 5
}
