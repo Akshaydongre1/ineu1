{
 "cells": [
  {
   "cell_type": "code",
   "execution_count": 6,
   "id": "4c23149c",
   "metadata": {},
   "outputs": [],
   "source": [
    "#1 . you have to write a fun which will take string and return a len of \n",
    "#it without using a inbuilt fun len\n",
    "def test(a):\n",
    "     if type(a)==str:\n",
    "        return len(a)"
   ]
  },
  {
   "cell_type": "code",
   "execution_count": 7,
   "id": "71e21183",
   "metadata": {},
   "outputs": [
    {
     "data": {
      "text/plain": [
       "5"
      ]
     },
     "execution_count": 7,
     "metadata": {},
     "output_type": "execute_result"
    }
   ],
   "source": [
    "test(\"mango\")"
   ]
  },
  {
   "cell_type": "code",
   "execution_count": 4,
   "id": "0de61d0c",
   "metadata": {},
   "outputs": [],
   "source": [
    "#2 . write a fun which will be able to print an index of all premitive element which you will pass\n"
   ]
  },
  {
   "cell_type": "code",
   "execution_count": 27,
   "id": "870c39c7",
   "metadata": {},
   "outputs": [],
   "source": [
    "def test1(a):\n",
    "     for i in range(len(a)):\n",
    "            print(i)"
   ]
  },
  {
   "cell_type": "code",
   "execution_count": 30,
   "id": "83c54bd8",
   "metadata": {},
   "outputs": [
    {
     "name": "stdout",
     "output_type": "stream",
     "text": [
      "0\n",
      "1\n",
      "2\n",
      "3\n"
     ]
    }
   ],
   "source": [
    "test1([1,2,3,4])"
   ]
  },
  {
   "cell_type": "code",
   "execution_count": 32,
   "id": "359fe2b3",
   "metadata": {},
   "outputs": [
    {
     "name": "stdout",
     "output_type": "stream",
     "text": [
      "0\n",
      "1\n",
      "2\n",
      "3\n",
      "4\n",
      "5\n",
      "6\n",
      "7\n",
      "8\n",
      "9\n",
      "10\n",
      "11\n",
      "12\n",
      "13\n",
      "14\n",
      "15\n",
      "16\n",
      "17\n",
      "18\n",
      "19\n",
      "20\n",
      "21\n",
      "22\n",
      "23\n",
      "24\n",
      "25\n",
      "26\n",
      "27\n",
      "28\n",
      "29\n",
      "30\n",
      "31\n",
      "32\n",
      "33\n",
      "34\n",
      "35\n",
      "36\n",
      "37\n",
      "38\n",
      "39\n",
      "40\n",
      "41\n"
     ]
    }
   ],
   "source": [
    "test1(\"thank you sir for this wonderfull teaching\")"
   ]
  },
  {
   "cell_type": "code",
   "execution_count": null,
   "id": "1faecea6",
   "metadata": {},
   "outputs": [],
   "source": [
    "#3 . Write a fun which will take input as a dict and give me out as a list of all the values \n",
    "#even in case of 2 level nesting it should work ."
   ]
  },
  {
   "cell_type": "code",
   "execution_count": null,
   "id": "13ff85f9",
   "metadata": {},
   "outputs": [],
   "source": [
    "\"\"\"input must be dictionary only\"\"\"\n",
    "def test(a):\n",
    "    if type(a)==dict:\n",
    "             i.values()\n",
    "            \n",
    "    \n",
    "        \n",
    "        "
   ]
  },
  {
   "cell_type": "code",
   "execution_count": null,
   "id": "0bd7745c",
   "metadata": {},
   "outputs": [],
   "source": [
    "test3({\"mango\":\"key\"})"
   ]
  },
  {
   "cell_type": "code",
   "execution_count": null,
   "id": "2f5d4679",
   "metadata": {},
   "outputs": [],
   "source": [
    "#4 . write a fun which will take another function as an input and return me an output"
   ]
  },
  {
   "cell_type": "code",
   "execution_count": null,
   "id": "3bd45c26",
   "metadata": {},
   "outputs": [],
   "source": [
    "def test3(a,b):\n",
    "    if type(a)==list and type(b)==list:\n",
    "        a.append(b)\n",
    "        return a\n"
   ]
  },
  {
   "cell_type": "code",
   "execution_count": null,
   "id": "269a77ee",
   "metadata": {},
   "outputs": [],
   "source": [
    "test3([98,85,78],[526,85])"
   ]
  },
  {
   "cell_type": "code",
   "execution_count": null,
   "id": "94e9c560",
   "metadata": {},
   "outputs": [],
   "source": []
  },
  {
   "cell_type": "code",
   "execution_count": null,
   "id": "1247099f",
   "metadata": {},
   "outputs": [],
   "source": []
  }
 ],
 "metadata": {
  "kernelspec": {
   "display_name": "Python 3 (ipykernel)",
   "language": "python",
   "name": "python3"
  },
  "language_info": {
   "codemirror_mode": {
    "name": "ipython",
    "version": 3
   },
   "file_extension": ".py",
   "mimetype": "text/x-python",
   "name": "python",
   "nbconvert_exporter": "python",
   "pygments_lexer": "ipython3",
   "version": "3.9.7"
  }
 },
 "nbformat": 4,
 "nbformat_minor": 5
}
