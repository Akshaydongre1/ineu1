{
 "cells": [
  {
   "cell_type": "code",
   "execution_count": 2,
   "id": "6ad52bc4",
   "metadata": {},
   "outputs": [],
   "source": [
    "# 1. What are escape characters, and how do you use them?\n",
    "# \\n or \\t"
   ]
  },
  {
   "cell_type": "code",
   "execution_count": 3,
   "id": "6f7f6a39",
   "metadata": {},
   "outputs": [],
   "source": [
    "# 2. What do the escape characters n and t stand for?\n",
    "\n",
    "# \"\\n\" is new line\n",
    "# \"\\t\" is tab"
   ]
  },
  {
   "cell_type": "code",
   "execution_count": 4,
   "id": "ffa6d35f",
   "metadata": {},
   "outputs": [],
   "source": [
    "# 3. What is the way to include backslash characters in a string?\n",
    "\n",
    "#\"\\n\""
   ]
  },
  {
   "cell_type": "code",
   "execution_count": 5,
   "id": "37d9b5ba",
   "metadata": {},
   "outputs": [],
   "source": [
    "# 4. The string \"Howl's Moving Castle\" is a correct value. Why isn't the single quote character in the word Howl's not escaped a problem?"
   ]
  },
  {
   "cell_type": "code",
   "execution_count": null,
   "id": "30f60078",
   "metadata": {},
   "outputs": [],
   "source": [
    "\"\"\"The string value \"Howl's Moving Castle\" is a valid string. Why isn't it a problem that the single quote character in the word Howl's isn't escaped?\n",
    "The single quote in Howl's is fine because you've used double quotes to mark the beginning and end of the string.\"\"\""
   ]
  },
  {
   "cell_type": "code",
   "execution_count": 6,
   "id": "f1adbcd9",
   "metadata": {},
   "outputs": [],
   "source": [
    "# 5. How do you write a string of newlines if you don't want to use the n character?\n",
    "# use \\n"
   ]
  },
  {
   "cell_type": "code",
   "execution_count": null,
   "id": "aeab77ad",
   "metadata": {},
   "outputs": [],
   "source": [
    "\"\"\"6. What are the values of the given expressions?\n",
    "'Hello, world!'[1]\n",
    "'Hello, world!'[0:5]\n",
    "'Hello, world!'[:5]\n",
    "'Hello, world!'[3:]\n",
    "\"\"\""
   ]
  },
  {
   "cell_type": "code",
   "execution_count": 9,
   "id": "a4de0a78",
   "metadata": {},
   "outputs": [
    {
     "data": {
      "text/plain": [
       "'e'"
      ]
     },
     "execution_count": 9,
     "metadata": {},
     "output_type": "execute_result"
    }
   ],
   "source": [
    "\"hello world\"[1]"
   ]
  },
  {
   "cell_type": "code",
   "execution_count": 10,
   "id": "fe9667d3",
   "metadata": {},
   "outputs": [
    {
     "data": {
      "text/plain": [
       "'Hello'"
      ]
     },
     "execution_count": 10,
     "metadata": {},
     "output_type": "execute_result"
    }
   ],
   "source": [
    "'Hello, world!'[0:5]"
   ]
  },
  {
   "cell_type": "code",
   "execution_count": 11,
   "id": "d50b9c86",
   "metadata": {},
   "outputs": [
    {
     "data": {
      "text/plain": [
       "'Hello'"
      ]
     },
     "execution_count": 11,
     "metadata": {},
     "output_type": "execute_result"
    }
   ],
   "source": [
    "'Hello, world!'[:5]"
   ]
  },
  {
   "cell_type": "code",
   "execution_count": 12,
   "id": "0c9462b5",
   "metadata": {},
   "outputs": [
    {
     "data": {
      "text/plain": [
       "'lo, world!'"
      ]
     },
     "execution_count": 12,
     "metadata": {},
     "output_type": "execute_result"
    }
   ],
   "source": [
    "'Hello, world!'[3:]"
   ]
  },
  {
   "cell_type": "code",
   "execution_count": null,
   "id": "e5d9c387",
   "metadata": {},
   "outputs": [],
   "source": [
    "\"\"\"7. What are the values of the following expressions?\n",
    "'Hello'.upper()\n",
    "'Hello'.upper().isupper()\n",
    "'Hello'.upper().lower()\n",
    "\"\"\""
   ]
  },
  {
   "cell_type": "code",
   "execution_count": null,
   "id": "871a0f6f",
   "metadata": {},
   "outputs": [],
   "source": [
    "# 'Hello'.upper() is HELLO"
   ]
  },
  {
   "cell_type": "code",
   "execution_count": 16,
   "id": "8f3ec276",
   "metadata": {},
   "outputs": [],
   "source": [
    "# 'Hello'.upper().isupper() is True"
   ]
  },
  {
   "cell_type": "code",
   "execution_count": 17,
   "id": "49327aab",
   "metadata": {},
   "outputs": [],
   "source": [
    "# 'Hello'.upper().lower() is False"
   ]
  },
  {
   "cell_type": "code",
   "execution_count": null,
   "id": "644a0f46",
   "metadata": {},
   "outputs": [],
   "source": [
    "\"\"\"8. What are the values of the following expressions?\n",
    "'Remember, remember, the fifth of July.'.split()\n",
    "'-'.join('There can only one.'.split()\n",
    "\"\"\""
   ]
  },
  {
   "cell_type": "code",
   "execution_count": 19,
   "id": "8f8244af",
   "metadata": {},
   "outputs": [],
   "source": [
    "#'Remember, remember, the fifth of July.'.split() is ['Remember,', 'remember,', 'the', 'fifth', 'of', 'July.']"
   ]
  },
  {
   "cell_type": "code",
   "execution_count": 22,
   "id": "a075ca95",
   "metadata": {},
   "outputs": [],
   "source": [
    "#'-'.join('There can only one.'.split()) is 'There-can-only-one.'"
   ]
  },
  {
   "cell_type": "code",
   "execution_count": 23,
   "id": "c95d7e4f",
   "metadata": {},
   "outputs": [],
   "source": [
    "# 9. What are the methods for right-justifying, left-justifying, and centering a string?"
   ]
  },
  {
   "cell_type": "code",
   "execution_count": 24,
   "id": "b4e1fb4f",
   "metadata": {},
   "outputs": [],
   "source": [
    "#  ljust(), rjust(), center()"
   ]
  },
  {
   "cell_type": "code",
   "execution_count": 25,
   "id": "abcae7eb",
   "metadata": {},
   "outputs": [],
   "source": [
    "# 10. What is the best way to remove whitespace characters from the start or end?"
   ]
  },
  {
   "cell_type": "code",
   "execution_count": null,
   "id": "27524b6a",
   "metadata": {},
   "outputs": [],
   "source": []
  }
 ],
 "metadata": {
  "kernelspec": {
   "display_name": "Python 3 (ipykernel)",
   "language": "python",
   "name": "python3"
  },
  "language_info": {
   "codemirror_mode": {
    "name": "ipython",
    "version": 3
   },
   "file_extension": ".py",
   "mimetype": "text/x-python",
   "name": "python",
   "nbconvert_exporter": "python",
   "pygments_lexer": "ipython3",
   "version": "3.9.7"
  }
 },
 "nbformat": 4,
 "nbformat_minor": 5
}
